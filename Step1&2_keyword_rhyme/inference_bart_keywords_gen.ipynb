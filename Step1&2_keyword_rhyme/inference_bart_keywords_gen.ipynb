{
 "cells": [
  {
   "cell_type": "code",
   "execution_count": 1,
   "id": "2d748708",
   "metadata": {},
   "outputs": [
    {
     "name": "stderr",
     "output_type": "stream",
     "text": [
      "/usr/lib/python3/dist-packages/requests/__init__.py:89: RequestsDependencyWarning: urllib3 (1.26.8) or chardet (3.0.4) doesn't match a supported version!\n",
      "  warnings.warn(\"urllib3 ({}) or chardet ({}) doesn't match a supported \"\n"
     ]
    }
   ],
   "source": [
    "# Importing libraries\n",
    "import json\n",
    "import os\n",
    "import numpy as np\n",
    "import pandas as pd\n",
    "import torch\n",
    "import torch.nn.functional as F\n",
    "from torch.utils.data import Dataset, DataLoader, RandomSampler, SequentialSampler\n",
    "import os\n",
    "\n",
    "# Importing the T5 modules from huggingface/transformers\n",
    "from transformers import BartTokenizer, BartForConditionalGeneration\n",
    "\n",
    "# rich: for a better display on terminal\n",
    "from rich.table import Column, Table\n",
    "from rich import box\n",
    "from rich.console import Console\n",
    "\n",
    "# define a rich console logger\n",
    "console = Console(record=True)"
   ]
  },
  {
   "cell_type": "code",
   "execution_count": 2,
   "id": "e1cf5fed",
   "metadata": {},
   "outputs": [],
   "source": [
    "from torch import cuda\n",
    "device = 'cuda:0' if cuda.is_available() else 'cpu'"
   ]
  },
  {
   "cell_type": "code",
   "execution_count": 10,
   "id": "fddc1b90",
   "metadata": {},
   "outputs": [],
   "source": [
    "model_path = 'facebook/bart-large_batch_8_lr_3e-060503-mix-with-eos/model_files'\n",
    "tokenizer = BartTokenizer.from_pretrained(model_path)\n",
    "model = BartForConditionalGeneration.from_pretrained(model_path)\n",
    "model = model.to(device)"
   ]
  },
  {
   "cell_type": "code",
   "execution_count": 3,
   "id": "5bba1cf1",
   "metadata": {},
   "outputs": [],
   "source": [
    "user_input = 'The Four Seasons'"
   ]
  },
  {
   "cell_type": "code",
   "execution_count": 33,
   "id": "5675d368",
   "metadata": {},
   "outputs": [],
   "source": [
    "def generate(user_input, model, tokenizer):\n",
    "    prompt = \"Generate keywords for the title: \"\n",
    "    placeholder = \". Keywords 1: ['<MASK>', '<MASK>', '<MASK>'] . Keywords 2: ['<MASK>', '<MASK>', '<MASK>'] . Keywords 3: ['<MASK>', '<MASK>', '<MASK>'] . Keywords 4: ['<MASK>', '<MASK>', '<MASK>'] . Keywords 5: ['<MASK>', '<MASK>', '<MASK>'] . Keywords 6: ['<MASK>', '<MASK>', '<MASK>'] . Keywords 7: ['<MASK>', '<MASK>', '<MASK>'] . Keywords 8: ['<MASK>', '<MASK>', '<MASK>'] . Keywords 9: ['<MASK>', '<MASK>', '<MASK>'] . Keywords 10: ['<MASK>', '<MASK>', '<MASK>'] . Keywords 11: ['<MASK>', '<MASK>', '<MASK>'] . Keywords 12: ['<MASK>', '<MASK>', '<MASK>'] . Keywords 13: ['<MASK>', '<MASK>', '<MASK>'] . Keywords 14: ['<MASK>', '<MASK>', '<MASK>'] </s>\"\n",
    "    bart_input = prompt + user_input + placeholder\n",
    "    ids = tokenizer(bart_input, return_tensors=\"pt\").input_ids.to(device)\n",
    "    generated_ids = model.generate(\n",
    "                  input_ids = ids,\n",
    "                  max_length=512, \n",
    "                min_length = 200,\n",
    "                  num_beams = 4,\n",
    "                  no_repeat_ngram_size = 5,\n",
    "                  #topp = 0.9,\n",
    "                  #do_sample=True,\n",
    "                  repetition_penalty=5.8, \n",
    "                  length_penalty=1, \n",
    "                  early_stopping=True\n",
    "                  )\n",
    "    preds = [tokenizer.decode(g, skip_special_tokens=True, clean_up_tokenization_spaces=True) for g in generated_ids]\n",
    "    return preds"
   ]
  },
  {
   "cell_type": "code",
   "execution_count": 34,
   "id": "57e08199",
   "metadata": {},
   "outputs": [
    {
     "data": {
      "text/plain": [
       "[\"Keywords 1: ['years', 'time', 'ago']. Keywords 2: ['life', 'happened', 'finally']. Keywords 3: ['day', 'woke','morning']. Keywords 4: ['room','sitting', 'bed']. Keywords 5: ['window', 'looked', 'backwards']. Keywords 6: ['sunrise','staring', 'darkness']. Keywords 7: ['night', 'couple', 'hours']. Keywords 8: ['doorway', 'heard', 'closer']. Keywords 9: ['Suddenly','sound', 'hear']. Keywords 10: ['screaming', 'loudly','started']. Keywords 11: ['house', 'ran', 'inside']. Keywords 12: ['stairs', 'quickly', 'opened']. Keywords 13: ['floor','shook', 'head']. Keywords 14: ['eyes', 'turned', 'face'] \"]"
      ]
     },
     "execution_count": 34,
     "metadata": {},
     "output_type": "execute_result"
    }
   ],
   "source": [
    "generate(user_input, model, tokenizer)"
   ]
  },
  {
   "cell_type": "code",
   "execution_count": null,
   "id": "9fb28e17",
   "metadata": {},
   "outputs": [],
   "source": []
  }
 ],
 "metadata": {
  "kernelspec": {
   "display_name": "Python 3",
   "language": "python",
   "name": "python3"
  },
  "language_info": {
   "codemirror_mode": {
    "name": "ipython",
    "version": 3
   },
   "file_extension": ".py",
   "mimetype": "text/x-python",
   "name": "python",
   "nbconvert_exporter": "python",
   "pygments_lexer": "ipython3",
   "version": "3.8.10"
  }
 },
 "nbformat": 4,
 "nbformat_minor": 5
}
