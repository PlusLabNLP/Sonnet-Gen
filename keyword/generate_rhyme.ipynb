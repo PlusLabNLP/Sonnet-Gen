{
 "cells": [
  {
   "cell_type": "code",
   "execution_count": 1,
   "id": "8fda0830",
   "metadata": {},
   "outputs": [
    {
     "name": "stderr",
     "output_type": "stream",
     "text": [
      "/usr/lib/python3/dist-packages/requests/__init__.py:89: RequestsDependencyWarning: urllib3 (1.26.8) or chardet (3.0.4) doesn't match a supported version!\n",
      "  warnings.warn(\"urllib3 ({}) or chardet ({}) doesn't match a supported \"\n"
     ]
    }
   ],
   "source": [
    "from transformers import pipeline\n",
    "path = 'facebook/bart-large_batch_8_lr_3e-060503-mix-with-eos/model_files'\n",
    "nlp = pipeline(\"fill-mask\", model=path)"
   ]
  },
  {
   "cell_type": "code",
   "execution_count": 8,
   "id": "bc2a057c",
   "metadata": {},
   "outputs": [],
   "source": [
    "import pronouncing\n",
    "import random\n",
    "def get_rhyme_candidates(word, N):\n",
    "    temp = pronouncing.rhymes(word)\n",
    "    if len(temp) <= N:\n",
    "        return temp\n",
    "    else:\n",
    "        return random.sample(temp,N)"
   ]
  },
  {
   "cell_type": "code",
   "execution_count": 4,
   "id": "99891b08",
   "metadata": {},
   "outputs": [],
   "source": [
    "#zero index\n",
    "initial_rhyming_lines = [0,1,4,5,8,9,12]\n",
    "countin_rhyming_lines = [2,3,6,7,10,11,13]"
   ]
  },
  {
   "cell_type": "code",
   "execution_count": 131,
   "id": "bf0283c7",
   "metadata": {},
   "outputs": [],
   "source": [
    "example_keywords = '''Keywords 1: ['wrong', 'things', 'trade'] . Keywords 2: ['Silhouettes', 'yard', 'bright'] . Keywords 3: ['safe', 'feel', 'cozy'] . Keywords 4: ['air', 'lifted', 'today'] . Keywords 5: ['grounds', 'spirits', 'inhabit'] . Keywords 6: ['mist', 'wrong', 'deeply'] . Keywords 7: ['mind', 'cottage', 'engulfed'] . Keywords 8: ['legs', 'dog', 'tail'] . Keywords 9: ['reached', 'house', 'cold'] . Keywords 10: ['silence', 'air', 'shook'] . Keywords 11: ['rumble', 'thunder', 'localized'] . Keywords 12: ['animal', 'slumber', 'horrible'] . Keywords 13: ['cottage', 'glance', 'dashed'] . Keywords 14: ['ran', 'life', 'cabin'] </s>'''"
   ]
  },
  {
   "cell_type": "code",
   "execution_count": 133,
   "id": "86d4052e",
   "metadata": {},
   "outputs": [
    {
     "name": "stdout",
     "output_type": "stream",
     "text": [
      "generated rhyme word: raid\n",
      "generated rhyme word: tight\n"
     ]
    },
    {
     "name": "stderr",
     "output_type": "stream",
     "text": [
      "The specified target token ` abbot` does not exist in the model vocabulary. Replacing with `Ġab`.\n",
      "The specified target token ` abbott` does not exist in the model vocabulary. Replacing with `Ġab`.\n",
      "The specified target token ` cabot` does not exist in the model vocabulary. Replacing with `Ġcab`.\n",
      "The specified target token ` habit` does not exist in the model vocabulary. Replacing with `Ġhabit`.\n",
      "The specified target token ` kabat` does not exist in the model vocabulary. Replacing with `Ġk`.\n",
      "The specified target token ` rabbit` does not exist in the model vocabulary. Replacing with `Ġrabbit`.\n"
     ]
    },
    {
     "name": "stdout",
     "output_type": "stream",
     "text": [
      "generated rhyme word:  rabbit\n"
     ]
    },
    {
     "name": "stderr",
     "output_type": "stream",
     "text": [
      "The specified target token ` cheaply` does not exist in the model vocabulary. Replacing with `Ġcheaply`.\n",
      "The specified target token ` leapley` does not exist in the model vocabulary. Replacing with `Ġleap`.\n",
      "The specified target token ` steeply` does not exist in the model vocabulary. Replacing with `Ġsteep`.\n"
     ]
    },
    {
     "name": "stdout",
     "output_type": "stream",
     "text": [
      "generated rhyme word:  cheaply\n",
      "generated rhyme word: rolled\n",
      "generated rhyme word: look\n"
     ]
    },
    {
     "name": "stderr",
     "output_type": "stream",
     "text": [
      "The specified target token ` abashed` does not exist in the model vocabulary. Replacing with `Ġab`.\n",
      "The specified target token ` bashed` does not exist in the model vocabulary. Replacing with `Ġbas`.\n",
      "The specified target token ` cached` does not exist in the model vocabulary. Replacing with `Ġcached`.\n",
      "The specified target token ` cashed` does not exist in the model vocabulary. Replacing with `Ġc`.\n",
      "The specified target token ` clashed` does not exist in the model vocabulary. Replacing with `Ġclashed`.\n",
      "The specified target token ` crashed` does not exist in the model vocabulary. Replacing with `Ġcrashed`.\n",
      "The specified target token ` flashed` does not exist in the model vocabulary. Replacing with `Ġflashed`.\n",
      "The specified target token ` gashed` does not exist in the model vocabulary. Replacing with `Ġgas`.\n",
      "The specified target token ` hashed` does not exist in the model vocabulary. Replacing with `Ġhas`.\n",
      "The specified target token ` lashed` does not exist in the model vocabulary. Replacing with `Ġlashed`.\n",
      "The specified target token ` mashed` does not exist in the model vocabulary. Replacing with `Ġmashed`.\n",
      "The specified target token ` slashed` does not exist in the model vocabulary. Replacing with `Ġslashed`.\n",
      "The specified target token ` smashed` does not exist in the model vocabulary. Replacing with `Ġsmashed`.\n",
      "The specified target token ` splashed` does not exist in the model vocabulary. Replacing with `Ġspl`.\n",
      "The specified target token ` stashed` does not exist in the model vocabulary. Replacing with `Ġst`.\n",
      "The specified target token ` thrashed` does not exist in the model vocabulary. Replacing with `Ġthr`.\n",
      "The specified target token ` trashed` does not exist in the model vocabulary. Replacing with `Ġtr`.\n",
      "The specified target token ` unabashed` does not exist in the model vocabulary. Replacing with `Ġunab`.\n"
     ]
    },
    {
     "name": "stdout",
     "output_type": "stream",
     "text": [
      "generated rhyme word:  lashed\n"
     ]
    }
   ],
   "source": [
    "for i in range(7):\n",
    "    # indices for keywords are 1,3,5. \n",
    "    word = example_keywords.split(' Keywords')[initial_rhyming_lines[i]].split(\"'\")[5]\n",
    "    candidates = get_rhyme_candidates(word, N=30)\n",
    "    #candidates = pronouncing.rhymes(word)\n",
    "    \n",
    "    replace_word = example_keywords.split(' Keywords')[countin_rhyming_lines[i]].split(\"'\")[5]\n",
    "    \n",
    "    mask_input =  example_keywords.replace(replace_word,nlp.tokenizer.mask_token)\n",
    "    result = nlp(mask_input, top_k = 5000)\n",
    "    tokens = [res['token_str'] for res in result]\n",
    "    found = False\n",
    "    for t in tokens:\n",
    "        if t in candidates:\n",
    "            print('generated rhyme word:', t)\n",
    "            found = True\n",
    "            break\n",
    "            \n",
    "    if not found:\n",
    "        candidates = [' '+c for c in candidates]\n",
    "        result = nlp(mask_input, targets = candidates)\n",
    "        tokens = [res['token_str'] for res in result]\n",
    "        for t in tokens:\n",
    "            if t in candidates:\n",
    "                print('generated rhyme word:', t)\n",
    "                found = True\n",
    "                break\n",
    "        if not found:\n",
    "            print('not found', word)\n",
    "        \n",
    "    example_keywords = example_keywords.replace(replace_word,t)"
   ]
  },
  {
   "cell_type": "code",
   "execution_count": 134,
   "id": "a6d77e55",
   "metadata": {},
   "outputs": [
    {
     "name": "stdout",
     "output_type": "stream",
     "text": [
      "Generated rhyme words; \n",
      "Keywords 1: ['wrong', 'things', 'trade'] . Keywords 2: ['Silhouettes', 'yard', 'bright'] . Keywords 3: ['safe', 'feel', 'raid'] . Keywords 4: ['air', 'lifted', 'tight'] . Keywords 5: ['grounds', 'spirits', 'inhabit'] . Keywords 6: ['mist', 'wrong', 'deeply'] . Keywords 7: ['mind', 'cottage', ' rabbit'] . Keywords 8: ['legs', 'dog', ' cheaply'] . Keywords 9: ['reached', 'house', 'cold'] . Keywords 10: ['silence', 'air', 'shook'] . Keywords 11: ['rumble', 'thunder', 'rolled'] . Keywords 12: ['animal', 'slumber', 'look'] . Keywords 13: ['cottage', 'glance', 'dashed'] . Keywords 14: ['ran', 'life', ' lashed'] </s>\n"
     ]
    }
   ],
   "source": [
    "print('Generated rhyme words; ', example_keywords, sep = '\\n')"
   ]
  },
  {
   "cell_type": "code",
   "execution_count": null,
   "id": "4ee49aa3",
   "metadata": {},
   "outputs": [],
   "source": []
  }
 ],
 "metadata": {
  "kernelspec": {
   "display_name": "Python 3",
   "language": "python",
   "name": "python3"
  },
  "language_info": {
   "codemirror_mode": {
    "name": "ipython",
    "version": 3
   },
   "file_extension": ".py",
   "mimetype": "text/x-python",
   "name": "python",
   "nbconvert_exporter": "python",
   "pygments_lexer": "ipython3",
   "version": "3.8.10"
  }
 },
 "nbformat": 4,
 "nbformat_minor": 5
}
