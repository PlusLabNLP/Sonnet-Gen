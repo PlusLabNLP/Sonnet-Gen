{
 "cells": [
  {
   "cell_type": "code",
   "execution_count": 1,
   "metadata": {},
   "outputs": [],
   "source": [
    "# Importing libraries\n",
    "import json\n",
    "import os\n",
    "import numpy as np\n",
    "import pandas as pd\n",
    "import torch\n",
    "import torch.nn.functional as F\n",
    "from torch.utils.data import Dataset, DataLoader, RandomSampler, SequentialSampler\n",
    "import os\n",
    "\n",
    "# Importing the T5 modules from huggingface/transformers\n",
    "from transformers import T5Tokenizer, T5ForConditionalGeneration\n",
    "from torch import cuda\n",
    "device = 'cuda:1' if cuda.is_available() else 'cpu'"
   ]
  },
  {
   "cell_type": "code",
   "execution_count": 2,
   "metadata": {},
   "outputs": [],
   "source": [
    "from TrainKeywords import YourDataSetClass, model_params"
   ]
  },
  {
   "cell_type": "code",
   "execution_count": 91,
   "metadata": {},
   "outputs": [],
   "source": [
    "gen_key = final_df['Generated Text'][0]"
   ]
  },
  {
   "cell_type": "code",
   "execution_count": 98,
   "metadata": {},
   "outputs": [
    {
     "name": "stdout",
     "output_type": "stream",
     "text": [
      "[spent, light, considered]\n",
      "[darkness, twilight, dark]\n",
      "[day, day, bright]\n",
      "[fog, white, clouds]\n",
      "[night, sun, pale]\n",
      "[wind, thine, earth]\n",
      "[death, life, long]\n",
      "[remain, time, past]\n",
      "[time, pass, distant]\n",
      "[misplaced, days, years]\n",
      "[blown, night, wind]\n",
      "[heat, cold, air]\n",
      "[rain, water, falls]\n",
      "[water, black, dust]\n",
      "[\n"
     ]
    }
   ],
   "source": [
    "temp = gen_key.split('Keywords: ')\n",
    "for t in temp[1:]:\n",
    "    kw_str = t.split('\",')[0]\n",
    "    keywords\n",
    "    print(keywords)"
   ]
  },
  {
   "cell_type": "code",
   "execution_count": 35,
   "metadata": {},
   "outputs": [],
   "source": [
    "from transformers import LogitsProcessorList,MinLengthLogitsProcessor,BeamSearchScorer"
   ]
  },
  {
   "cell_type": "code",
   "execution_count": 69,
   "metadata": {},
   "outputs": [],
   "source": [
    "text = \"Generate storyline from title: \" + title\n",
    "encoder_input_ids = tokenizer.encode_plus(text, max_length=30,\n",
    "            pad_to_max_length=True,\n",
    "            truncation=True,\n",
    "            padding=\"max_length\",\n",
    "            return_tensors=\"pt\")\n",
    "encoder_input_ids = encoder_input_ids[\"input_ids\"].to(device, dtype = torch.long)\n",
    "# lets run beam search using 3 beams\n",
    "num_beams = 2\n",
    "# define decoder start token ids\n",
    "input_ids = torch.ones((num_beams, 1), device=model.device, dtype=torch.long)\n",
    "input_ids = input_ids * model.config.decoder_start_token_id\n",
    "# add encoder_outputs to model keyword arguments\n",
    "model_kwargs = {\n",
    "\"encoder_outputs\": model.get_encoder()(encoder_input_ids.repeat_interleave(num_beams, dim=0), return_dict=True)}\n"
   ]
  },
  {
   "cell_type": "code",
   "execution_count": 71,
   "metadata": {},
   "outputs": [
    {
     "name": "stdout",
     "output_type": "stream",
     "text": [
      "Generated: [\"'Paris', 'August','sun'], ['sun','sun',\"]\n"
     ]
    }
   ],
   "source": [
    "# instantiate beam scorer\n",
    "beam_scorer = BeamSearchScorer(\n",
    "batch_size=1,\n",
    "max_length=100,\n",
    "num_beams=num_beams,\n",
    "device=model.device)\n",
    "# instantiate logits processors\n",
    "logits_processor = LogitsProcessorList([\n",
    "MinLengthLogitsProcessor(1, eos_token_id=model.config.eos_token_id),])\n",
    "outputs = model.beam_search(input_ids, beam_scorer, logits_processor=logits_processor, **model_kwargs, max_length=30, return_dict_in_generate = True, output_scores = True)\n",
    "print(\"Generated:\", tokenizer.batch_decode(outputs['sequences'], skip_special_tokens=True))"
   ]
  },
  {
   "cell_type": "code",
   "execution_count": 67,
   "metadata": {},
   "outputs": [
    {
     "data": {
      "text/plain": [
       "tensor([-0.6677], device='cuda:2')"
      ]
     },
     "execution_count": 67,
     "metadata": {},
     "output_type": "execute_result"
    }
   ],
   "source": [
    "outputs['sequences_scores']"
   ]
  },
  {
   "cell_type": "code",
   "execution_count": 114,
   "metadata": {},
   "outputs": [],
   "source": [
    "import pronouncing"
   ]
  },
  {
   "cell_type": "code",
   "execution_count": 139,
   "metadata": {},
   "outputs": [
    {
     "data": {
      "text/plain": [
       "['abrade',\n",
       " 'ade',\n",
       " 'afraid',\n",
       " 'aid',\n",
       " 'aide',\n",
       " 'allayed',\n",
       " 'arcade',\n",
       " 'arrayed',\n",
       " 'bayed',\n",
       " 'betrayed',\n",
       " 'blade',\n",
       " 'blockade',\n",
       " 'braid',\n",
       " 'brascade',\n",
       " 'brigade',\n",
       " 'brigade',\n",
       " 'brocade',\n",
       " 'buffeted',\n",
       " 'cade',\n",
       " 'cascade',\n",
       " 'charade',\n",
       " 'cliched',\n",
       " 'colonnade',\n",
       " 'conveyed',\n",
       " 'crocheted',\n",
       " 'crusade',\n",
       " 'dade',\n",
       " 'decade',\n",
       " 'decayed',\n",
       " 'degrade',\n",
       " 'delayed',\n",
       " 'dismayed',\n",
       " 'disobeyed',\n",
       " 'displayed',\n",
       " 'dissuade',\n",
       " 'downgrade',\n",
       " 'evade',\n",
       " 'evade',\n",
       " 'eyde',\n",
       " 'fade',\n",
       " 'fayed',\n",
       " 'filleted',\n",
       " 'flayed',\n",
       " 'forbade',\n",
       " 'frayed',\n",
       " 'gade',\n",
       " 'glade',\n",
       " 'goldade',\n",
       " 'grade',\n",
       " 'granade',\n",
       " 'grenade',\n",
       " 'hade',\n",
       " 'haid',\n",
       " 'handmade',\n",
       " 'handmade',\n",
       " 'heyd',\n",
       " 'heyde',\n",
       " 'home-made',\n",
       " 'homemade',\n",
       " 'homemade',\n",
       " 'invade',\n",
       " 'jade',\n",
       " 'kade',\n",
       " 'kincade',\n",
       " 'kincaid',\n",
       " 'lade',\n",
       " 'laid',\n",
       " 'lemonade',\n",
       " 'made',\n",
       " 'maid',\n",
       " 'manmade',\n",
       " 'marcade',\n",
       " 'masquerade',\n",
       " 'mayde',\n",
       " 'mccade',\n",
       " 'mcdade',\n",
       " 'mcdaid',\n",
       " 'mcglade',\n",
       " 'mcquade',\n",
       " 'mcquaid',\n",
       " 'mcquaide',\n",
       " 'metrodade',\n",
       " 'mislaid',\n",
       " 'obeyed',\n",
       " 'okayed',\n",
       " 'outweighed',\n",
       " 'overpaid',\n",
       " 'overplayed',\n",
       " 'overstayed',\n",
       " 'paid',\n",
       " 'palisade',\n",
       " 'parade',\n",
       " 'persuade',\n",
       " 'pervade',\n",
       " 'played',\n",
       " 'portrayed',\n",
       " 'prayed',\n",
       " 'prepaid',\n",
       " 'preyed',\n",
       " 'promenade',\n",
       " 'purveyed',\n",
       " 'quade',\n",
       " 'quaid',\n",
       " 'raid',\n",
       " 'rayed',\n",
       " 'remade',\n",
       " 'repaid',\n",
       " 'replayed',\n",
       " 'sauteed',\n",
       " 'sayed',\n",
       " 'schade',\n",
       " 'schrade',\n",
       " 'serenade',\n",
       " 'shade',\n",
       " 'slade',\n",
       " 'spade',\n",
       " 'spaid',\n",
       " 'spayd',\n",
       " 'spayde',\n",
       " 'spayed',\n",
       " 'sprayed',\n",
       " 'stade',\n",
       " 'staid',\n",
       " 'stayed',\n",
       " 'strayed',\n",
       " 'suede',\n",
       " 'surveyed',\n",
       " 'swayed',\n",
       " \"they'd\",\n",
       " 'tirade',\n",
       " 'trade',\n",
       " 'unafraid',\n",
       " 'underpaid',\n",
       " 'underplayed',\n",
       " 'unmade',\n",
       " 'unpaid',\n",
       " 'unswayed',\n",
       " 'upgrade',\n",
       " 'upgrade',\n",
       " 'usaid',\n",
       " 'wade',\n",
       " 'waid',\n",
       " 'waide',\n",
       " 'weighed',\n",
       " 'zaid']"
      ]
     },
     "execution_count": 139,
     "metadata": {},
     "output_type": "execute_result"
    }
   ],
   "source": [
    "pronouncing.rhymes('bade')"
   ]
  },
  {
   "cell_type": "code",
   "execution_count": 140,
   "metadata": {},
   "outputs": [
    {
     "data": {
      "text/plain": [
       "['S IH1 M P AH0 TH IY0']"
      ]
     },
     "execution_count": 140,
     "metadata": {},
     "output_type": "execute_result"
    }
   ],
   "source": [
    "pronouncing.phones_for_word('sympathy')"
   ]
  },
  {
   "cell_type": "code",
   "execution_count": 16,
   "metadata": {},
   "outputs": [
    {
     "name": "stdout",
     "output_type": "stream",
     "text": [
      "Generate storyline from title: No One Goes to Paris in August\t[\"'Paris', 'August', 'goes'], ['Sweet','summer', 'brings'], ['Beauty', 'beauty','makes'], ['Past', 'past', 'future'], ['Father', 'Goes', 'tomorrow'], ['Mother', 'loves', 'women'], ['Woman', 'heart', 'dear'], ['Till', '\"]\n"
     ]
    }
   ],
   "source": [
    "title = '''No One Goes to Paris in August'''\n",
    "\n",
    "text =  \"Generate storyline from title: \" + title\n",
    "\n",
    "encoding = tokenizer.encode_plus(text, max_length=30,\n",
    "            pad_to_max_length=True,\n",
    "            truncation=True,\n",
    "            padding=\"max_length\",\n",
    "            return_tensors=\"pt\")\n",
    "input_ids = encoding[\"input_ids\"].to(device, dtype = torch.long)\n",
    "attention_masks = encoding[\"attention_mask\"].to(device, dtype = torch.long)\n",
    "\n",
    "\n",
    "generated_ids = model.generate(\n",
    "              input_ids = input_ids,\n",
    "              attention_mask = attention_masks, \n",
    "              max_length=150, \n",
    "              num_beams=2,\n",
    "              repetition_penalty=2.5, \n",
    "              length_penalty=1.0,\n",
    "              early_stopping=True\n",
    "              )\n",
    "preds = [tokenizer.decode(g, skip_special_tokens=True, clean_up_tokenization_spaces=True) for g in generated_ids]\n",
    "print(text, preds, sep = '\\t')"
   ]
  }
 ],
 "metadata": {
  "kernelspec": {
   "display_name": "Python 3",
   "language": "python",
   "name": "python3"
  },
  "language_info": {
   "codemirror_mode": {
    "name": "ipython",
    "version": 3
   },
   "file_extension": ".py",
   "mimetype": "text/x-python",
   "name": "python",
   "nbconvert_exporter": "python",
   "pygments_lexer": "ipython3",
   "version": "3.6.5"
  }
 },
 "nbformat": 4,
 "nbformat_minor": 5
}
